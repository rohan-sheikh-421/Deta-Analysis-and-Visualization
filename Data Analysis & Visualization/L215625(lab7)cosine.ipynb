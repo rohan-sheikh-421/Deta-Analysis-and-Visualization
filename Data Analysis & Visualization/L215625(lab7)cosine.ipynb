{
  "cells": [
    {
      "cell_type": "code",
      "execution_count": 1,
      "metadata": {
        "collapsed": true,
        "id": "HeEv1Dv_hYha"
      },
      "outputs": [],
      "source": [
        "import nltk\n",
        "import string\n",
        "\n",
        "# used for looping through folders/files\n",
        "from os import listdir\n",
        "from os.path import isfile, join\n",
        "\n",
        "#Calc tfidf and cosine similarity\n",
        "from sklearn.feature_extraction.text import TfidfVectorizer\n",
        "from sklearn.feature_extraction.text import CountVectorizer\n",
        "from sklearn.metrics.pairwise import cosine_similarity"
      ]
    },
    {
      "cell_type": "code",
      "execution_count": 2,
      "metadata": {
        "collapsed": true,
        "id": "t8Dj9PCHhYhd"
      },
      "outputs": [],
      "source": [
        "# All text entries to compare will appear here\n",
        "BASE_INPUT_DIR = \"/content/inputData\""
      ]
    },
    {
      "cell_type": "markdown",
      "metadata": {
        "id": "fdcNprauhYhe"
      },
      "source": [
        "## Preprocess Data"
      ]
    },
    {
      "cell_type": "markdown",
      "metadata": {
        "id": "MCW3zf1whYhf"
      },
      "source": [
        "#### File information"
      ]
    },
    {
      "cell_type": "code",
      "execution_count": 3,
      "metadata": {
        "colab": {
          "base_uri": "https://localhost:8080/"
        },
        "id": "0yvHloIZhYhf",
        "outputId": "36fc321f-f6ba-48f7-cd8e-db2cf0876480"
      },
      "outputs": [
        {
          "output_type": "stream",
          "name": "stdout",
          "text": [
            "['f3.txt', 'f1.txt', 'f2.txt'] \n",
            " ['/content/inputData/f3.txt', '/content/inputData/f1.txt', '/content/inputData/f2.txt']\n"
          ]
        }
      ],
      "source": [
        "def returnListOfFilePaths(folderPath):\n",
        "    fileInfo = []\n",
        "    listOfFileNames = [fileName for fileName in listdir(folderPath) if isfile(join(folderPath, fileName))]\n",
        "    listOfFilePaths = [join(folderPath, fileName) for fileName in listdir(folderPath) if isfile(join(folderPath, fileName))]\n",
        "    fileInfo.append(listOfFileNames)\n",
        "    fileInfo.append(listOfFilePaths)\n",
        "    return fileInfo\n",
        "\n",
        "fileNames, filePaths = returnListOfFilePaths(BASE_INPUT_DIR)\n",
        "print(fileNames, \"\\n\", filePaths)"
      ]
    },
    {
      "cell_type": "code",
      "execution_count": 4,
      "metadata": {
        "colab": {
          "base_uri": "https://localhost:8080/"
        },
        "id": "FDysT0DZhYhg",
        "outputId": "874481ca-c7f0-4afb-d0ae-06e6bb785f36"
      },
      "outputs": [
        {
          "output_type": "stream",
          "name": "stdout",
          "text": [
            "{'/content/inputData/f3.txt': 'Anglo-French Channel Tunnel operator Eurotunnel on Monday announced a deal giving creditor banks 45.5 percent of the company in return for wiping out one billion pounds ($1.56 billion) of its debt mountain.\\nThe long-awaited restructuring brings to an end months of wrangling between Eurotunnel and the 225 banks to which it owes nearly nine billion pounds.\\nThe deal, announced simultaneously in Paris and London, brings the company back from the brink of insolvency but leaves shareholders owning only 54.5 percent of the company.\\n\"The restructuring plan provides Eurotunnel with the medium term financial stability to allow it to consolidate its substantial commercial achievements to date and to develop its operations,\" Eurotunnel co-chairman Alastair Morton said.\\nThe firm was now making a profit before interest, he added.\\nAlthough shareholders will see their interests diluted, they were offered the prospect of a brighter future after months of uncertainty while Eurotunnel wrestled to reduce crippling interest payments negotiated during the tunnel\\'s construction.\\nEurotunnel, which has taken around half the cross-Channel market from the European ferry companies, said a strong operating performance could allow it to pay its first dividend within the next 10 years.\\nFrench co-chairman Patrick Ponsolle said shareholders would have to be patient before they could reap the benefits of the company\\'s success.\\nHe called the debt restructuring plan \"an acceptable compromise\" for holders of Eurotunnel shares.\\nThe company said in a statement there was still considerable work to be done to finalise and agree the details of the plan before it can be submitted to shareholders and the full 225 bank syndicate for approval, probably early in 1997.\\nMonday\\'s announcement followed two weeks of highly secretive negotiations between Eurotunnel and its six leading banks. This was extended to the 24 \"instructing banks\" at a meeting late last week in London.\\nEurotunnel said the debt-for-equity swap would be at 130 pence, or 10.40 francs, per share. That is considerably below the level of around 160 pence widely reported in the run up to the deal, and will reduce outstanding debt of 8.7 billion pounds by 1.0 billion.\\nThe company said a further 3.7 billion pounds of debt would be converted into new financial instruments and existing shareholders would be able to participate in this issue.\\nIf they choose not to take up free warrants entitling them to subscribe to this, Eurotunnel said shareholders\\' interests may be reduced further to just over 39 percent of the company by the end of December 2003.\\nEurotunnel\\'s shares, which were suspended last week at 113.5 pence ahead of Monday\\'s announcement, should resume trading on Tuesday, the company said. ($1=.6393 Pound)\\n', '/content/inputData/f1.txt': 'Channel tunnel operator Eurotunnel on Monday announced details of a deal giving bank creditors 45.5 percent of the company in return for wiping out 1.0 billion pounds ($1.6 billion) of its massive debts.\\nThe long-awaited but highly complex restructuring of nearly nearly nine billion pounds of debt and unpaid interest throws the company a lifeline which could secure what is still likely to be a difficult future.\\nThe deal, announced simultaneously in Paris and London, brings the company back from the brink of bankruptcy but leaves current shareholders, who have already seen their investment dwindle, owning only 54.5 percent of the company.\\n\"We have fixed and capped the interest payments and arranged only to pay what is available in cash,\" Eurotunnel co-chairman Alastair Morton told reporters at a news conference. \"Avoiding having to do this again is the name of the game.\"\\nMorton said the plan provides the Anglo-French company with the medium term financial stability to consolidate its commercial position and develop its operations, adding that the firm was now making a profit before interest.\\nAlthough shareholders will see their holdings diluted, they were offered the prospect of a brighter future and urged to be patient after months of uncertainty while Eurotunnel wrestled to reduce the crippling interest payments negotiated during the tunnel\\'s construction.\\nEurotunnel, which has taken around half of the market in the busiest cross-Channel route from the European ferry companies, said a strong operating performance could allow it to pay its first dividend within the next 10 years.\\nFrench co-chairman Patrick Ponsolle told reporters at a Paris news conference that the dividend could come as early as 2004 if the company performed \"very well\".\\nEurotunnel and the banks have come up with an ingenious formula to help the company get over the early years of the deal when, despite the swaps of debt for equity and bonds, it will still not be able to afford the annual interest bill of 400 million pounds.\\nIf its revenue, after costs and depreciation, is less than 400 million pounds, then the company will issue \"Stabilisation notes\" to a maximum of 1.85 billion pounds to the banks. Eurotunnel would not pay interest on these notes (which would constitute a debt issue) for ten years.\\nAnalysts said that under the deal, Eurotunnel\\'s ability to finance its debt would become sustainable, at least for a few years.\\n\"If you look at the current cash flow of between 150 and 200 million pounds a year, what they can\\'t find (to meet the bill) they will roll forward into the stabilisation notes, and they can keep that going for seven, eight, nine years,\" said an analyst at one major investment bank.\\n\"So they are here for that time,\" he added.\\nThe company said in a statement there was still considerable work to be done to finalise and agree the details of the plan before it can be submitted to shareholders and the bank group for approval, probably early in the Spring of 1997.\\nEurotunnel said the debt-for-equity swap would be at 130 pence, or 10.40 francs, per share -- considerably below the level of 160 pence widely reported in the run up to the deal\\nThe company said a further 3.7 billion pounds of debt would be converted into new financial instruments and existing shareholders would be able to participate in this issue.\\nIf they choose not to take up free warrants entitling them to subscribe to this, Eurotunnel said shareholders\\' interests may be reduced further to just over 39 percent of the company by the end of December 2003.\\nEurotunnel\\'s shares, which were suspended last week at 113.5 pence ahead of Monday\\'s announcement, will resume trading on Tuesday.\\nShareholders and all 225 creditor banks have to agree the deal. \"I\\'m hopeful but I\\'m not taking it (approval) for granted,\" Morton admitted, \"Shareholders are pretty angry in France.\"\\nAsked what would happen if the banks reject the deal, Morton said, \"Nobody wants a collapse, nobody wants a doomsday scenario.\"\\n($1=.6393 Pound)\\n', '/content/inputData/f2.txt': 'Anglo-French Channel Tunnel operator Eurotunnel Monday announced a deal giving its creditor banks 45.5 percent of the company in return for wiping out one billion pounds ($1.56 billion) of its debt.\\nThe long-awaited restructuring brings to an end months of wrangling between Eurotunnel and the 225 banks to which it owes nearly nine billion pounds ($14.1 billion).\\nThe deal, announced simultaneously in Paris and London, brings the company back from the brink of insolvency but leaves shareholders owning only 54.5 percent of the company.\\n\"The restructuring plan provides Eurotunnel with the medium-term financial stability to allow it to consolidate its substantial commercial achievements to date and to develop its operations,\" Eurotunnel co-chairman Alastair Morton said.\\nThe firm was now making a profit before interest, he added.\\nAlthough shareholders will see their interests diluted, they were offered the prospect of a brighter future after months of uncertainty while Eurotunnel wrestled to reduce crippling interest payments negotiated during the tunnel\\'s construction.\\nEurotunnel, which has taken around half the cross-Channel market from the European ferry companies, said a strong operating performance could allow it to pay its first dividend within the next 10 years.\\nFrench co-chairman Patrick Ponsolle said shareholders would have to be patient before they could reap the benefits of the company\\'s success.\\nHe called the debt restructuring plan \"an acceptable compromise\" for holders of Eurotunnel shares.\\nThe company said there was still considerable work to be done to finalise and agree on the details of the plan before it can be submitted to shareholders and the full 225 bank syndicate for approval, probably early in 1997.\\nMonday\\'s announcement followed two weeks of highly secretive negotiations between Eurotunnel and its six leading banks. This was extended to the 24 \"instructing banks\" at a meeting late last week in London.\\nEurotunnel said the debt-for-equity swap would be at 130 pence, or 10.40 francs, per share. That is considerably below the level of around 160 pence widely reported before announcement of the deal, and will reduce outstanding debt of 8.7 billion pounds ($13.6 billion) by 1.0 billion ($1.56 billion).\\nThe company said a further 3.7 billion pounds ($5.8 billion) of debt would be converted into new financial instruments and existing shareholders would be able to participate in this issue.\\nIf they choose not to take up free warrants entitling them to subscribe to this, Eurotunnel said shareholders\\' interests may be reduced further to just over 39 percent of the company by the end of December 2003.\\nEurotunnel\\'s shares, which were suspended last week at 113.5 pence ahead of Monday\\'s announcement, should resume trading on Tuesday, the company said.\\n'}\n"
          ]
        }
      ],
      "source": [
        "# Get document contents\n",
        "def create_docContentDict(filePaths):\n",
        "    rawContentDict = {}\n",
        "    for filePath in filePaths:\n",
        "        with open(filePath, \"r\") as ifile:\n",
        "            fileContent = ifile.read()\n",
        "        rawContentDict[filePath] = fileContent\n",
        "    return rawContentDict\n",
        "rawContentDict = create_docContentDict(filePaths)\n",
        "print(rawContentDict)"
      ]
    },
    {
      "cell_type": "markdown",
      "metadata": {
        "id": "c66aOKvuhYhg"
      },
      "source": [
        "## Create Custom tokenizer"
      ]
    },
    {
      "cell_type": "markdown",
      "metadata": {
        "id": "ko7uHveShYhh"
      },
      "source": [
        "### Define functions to use within the tokenizer\n",
        "We'd like to;\n",
        "- tokenize the input\n",
        "- remove stop words\n",
        "- perform stemming\n",
        "- remove punctuation\n",
        "- convert input to lowercase"
      ]
    },
    {
      "cell_type": "markdown",
      "metadata": {
        "id": "eCM1qtZwhYhh"
      },
      "source": [
        "#### Tokenize"
      ]
    },
    {
      "cell_type": "code",
      "source": [
        "import nltk\n",
        "nltk.download('punkt')"
      ],
      "metadata": {
        "colab": {
          "base_uri": "https://localhost:8080/"
        },
        "id": "-jrgiwyKtxik",
        "outputId": "17e65934-b924-4b02-e86c-02c02712b26a"
      },
      "execution_count": 8,
      "outputs": [
        {
          "output_type": "stream",
          "name": "stderr",
          "text": [
            "[nltk_data] Downloading package punkt to /root/nltk_data...\n",
            "[nltk_data]   Unzipping tokenizers/punkt.zip.\n"
          ]
        },
        {
          "output_type": "execute_result",
          "data": {
            "text/plain": [
              "True"
            ]
          },
          "metadata": {},
          "execution_count": 8
        }
      ]
    },
    {
      "cell_type": "code",
      "execution_count": 10,
      "metadata": {
        "collapsed": true,
        "id": "FtbI-LNvhYhh"
      },
      "outputs": [],
      "source": [
        "def tokenizeContent(contentsRaw):\n",
        "    tokenized = nltk.tokenize.word_tokenize(contentsRaw)\n",
        "    return tokenized\n",
        ""
      ]
    },
    {
      "cell_type": "markdown",
      "metadata": {
        "id": "GHxWgoKyhYhi"
      },
      "source": [
        "#### Remove Stop words"
      ]
    },
    {
      "cell_type": "code",
      "execution_count": 6,
      "metadata": {
        "collapsed": true,
        "id": "eWoVWDquhYhi"
      },
      "outputs": [],
      "source": [
        "def removeStopWordsFromTokenized(contentsTokenized):\n",
        "    stop_word_set = set(nltk.corpus.stopwords.words(\"english\"))\n",
        "    filteredContents = [word for word in contentsTokenized if word not in stop_word_set]\n",
        "    return filteredContents"
      ]
    },
    {
      "cell_type": "markdown",
      "metadata": {
        "id": "VeCoyJMxhYhi"
      },
      "source": [
        "#### Stemming"
      ]
    },
    {
      "cell_type": "code",
      "execution_count": 11,
      "metadata": {
        "collapsed": true,
        "id": "yTTp1nJNhYhi"
      },
      "outputs": [],
      "source": [
        "def performPorterStemmingOnContents(contentsTokenized):\n",
        "    porterStemmer = nltk.stem.PorterStemmer()\n",
        "    filteredContents = [porterStemmer.stem(word) for word in contentsTokenized]\n",
        "    return filteredContents"
      ]
    },
    {
      "cell_type": "markdown",
      "metadata": {
        "id": "wZvpbe6EhYhi"
      },
      "source": [
        "#### Remove Punctuation"
      ]
    },
    {
      "cell_type": "code",
      "execution_count": 12,
      "metadata": {
        "collapsed": true,
        "id": "QLPxbIHthYhi"
      },
      "outputs": [],
      "source": [
        "def removePunctuationFromTokenized(contentsTokenized):\n",
        "    excludePuncuation = set(string.punctuation)\n",
        "\n",
        "    # manually add additional punctuation to remove\n",
        "    doubleSingleQuote = '\\'\\''\n",
        "    doubleDash = '--'\n",
        "    doubleTick = '``'\n",
        "\n",
        "    excludePuncuation.add(doubleSingleQuote)\n",
        "    excludePuncuation.add(doubleDash)\n",
        "    excludePuncuation.add(doubleTick)\n",
        "\n",
        "    filteredContents = [word for word in contentsTokenized if word not in excludePuncuation]\n",
        "    return filteredContents"
      ]
    },
    {
      "cell_type": "markdown",
      "metadata": {
        "id": "OierieOThYhj"
      },
      "source": [
        "#### Convert terms to lowercase"
      ]
    },
    {
      "cell_type": "code",
      "execution_count": 13,
      "metadata": {
        "collapsed": true,
        "id": "PT_x0tGnhYhj"
      },
      "outputs": [],
      "source": [
        "def convertItemsToLower(contentsRaw):\n",
        "    filteredContents = [term.lower() for term in contentsRaw]\n",
        "    return filteredContents"
      ]
    },
    {
      "cell_type": "markdown",
      "metadata": {
        "id": "2rXdPEemhYhj"
      },
      "source": [
        "### Test that functions are working as expected"
      ]
    },
    {
      "cell_type": "code",
      "execution_count": 14,
      "metadata": {
        "colab": {
          "base_uri": "https://localhost:8080/"
        },
        "id": "_RHJv_onhYhj",
        "outputId": "459e6195-93e7-4374-9e3c-f0e9c5dcd1ff"
      },
      "outputs": [
        {
          "output_type": "stream",
          "name": "stdout",
          "text": [
            "Anglo-French Channel Tunnel operator Eurotunnel on Monday announced a deal giving creditor banks 45.5 percent of the company in return for wiping out one billion pounds ($1.56 billion) of its debt mountain.\n",
            "The long-awaited restructuring brings to an end months of wrangling between Eurotunnel and th\n"
          ]
        }
      ],
      "source": [
        "# get contents of a file for testing\n",
        "# TODO: may need to make a copy of this here\n",
        "content_test = rawContentDict[filePaths[0]]\n",
        "\n",
        "# visually inspect\n",
        "print(content_test[:300])"
      ]
    },
    {
      "cell_type": "code",
      "execution_count": 15,
      "metadata": {
        "colab": {
          "base_uri": "https://localhost:8080/"
        },
        "id": "SB06xA4xhYhj",
        "outputId": "3fb2fcad-5ba3-4c46-987f-df439e8e7d07"
      },
      "outputs": [
        {
          "output_type": "stream",
          "name": "stdout",
          "text": [
            "['Anglo-French', 'Channel', 'Tunnel', 'operator', 'Eurotunnel', 'on', 'Monday', 'announced', 'a', 'deal', 'giving', 'creditor', 'banks', '45.5', 'percent', 'of', 'the', 'company', 'in', 'return', 'for', 'wiping', 'out', 'one', 'billion', 'pounds', '(', '$', '1.56', 'billion']\n"
          ]
        }
      ],
      "source": [
        "# test tokenization\n",
        "content_test_tokenized = tokenizeContent(content_test)\n",
        "\n",
        "# visually inspect\n",
        "print(content_test_tokenized[:30])"
      ]
    },
    {
      "cell_type": "code",
      "source": [
        "nltk.download('stopwords')"
      ],
      "metadata": {
        "colab": {
          "base_uri": "https://localhost:8080/"
        },
        "id": "ncAiT8_CuHpa",
        "outputId": "945ce72e-6c42-47cd-f012-d166de470387"
      },
      "execution_count": 17,
      "outputs": [
        {
          "output_type": "stream",
          "name": "stderr",
          "text": [
            "[nltk_data] Downloading package stopwords to /root/nltk_data...\n",
            "[nltk_data]   Unzipping corpora/stopwords.zip.\n"
          ]
        },
        {
          "output_type": "execute_result",
          "data": {
            "text/plain": [
              "True"
            ]
          },
          "metadata": {},
          "execution_count": 17
        }
      ]
    },
    {
      "cell_type": "code",
      "execution_count": 18,
      "metadata": {
        "colab": {
          "base_uri": "https://localhost:8080/"
        },
        "id": "CHp4imjBhYhj",
        "outputId": "e51fc1ea-9cc2-48b5-84ae-76ba27222240"
      },
      "outputs": [
        {
          "output_type": "stream",
          "name": "stdout",
          "text": [
            "['Anglo-French', 'Channel', 'Tunnel', 'operator', 'Eurotunnel', 'Monday', 'announced', 'deal', 'giving', 'creditor', 'banks', '45.5', 'percent', 'company', 'return', 'wiping', 'one', 'billion', 'pounds', '(', '$', '1.56', 'billion', ')', 'debt', 'mountain', '.', 'The', 'long-awaited', 'restructuring']\n"
          ]
        }
      ],
      "source": [
        "# test remove stop words\n",
        "content_test_rmStop = removeStopWordsFromTokenized(content_test_tokenized)\n",
        "\n",
        "# visually inspect\n",
        "print(content_test_rmStop[:30])"
      ]
    },
    {
      "cell_type": "code",
      "execution_count": 19,
      "metadata": {
        "colab": {
          "base_uri": "https://localhost:8080/"
        },
        "id": "W5QZ4jqShYhk",
        "outputId": "5e0437a9-4875-4f61-dae5-0dcb63695212"
      },
      "outputs": [
        {
          "output_type": "stream",
          "name": "stdout",
          "text": [
            "['anglo-french', 'channel', 'tunnel', 'oper', 'eurotunnel', 'monday', 'announc', 'deal', 'give', 'creditor', 'bank', '45.5', 'percent', 'compani', 'return', 'wipe', 'one', 'billion', 'pound', '(', '$', '1.56', 'billion', ')', 'debt', 'mountain', '.', 'the', 'long-await', 'restructur']\n"
          ]
        }
      ],
      "source": [
        "# Test stemming\n",
        "content_test_stemmed = performPorterStemmingOnContents(content_test_rmStop)\n",
        "\n",
        "# visually inspect\n",
        "print(content_test_stemmed[:30])"
      ]
    },
    {
      "cell_type": "code",
      "execution_count": 20,
      "metadata": {
        "colab": {
          "base_uri": "https://localhost:8080/"
        },
        "id": "136ECOvehYhk",
        "outputId": "41a3d821-4def-49cb-a6fa-f731642245fb"
      },
      "outputs": [
        {
          "output_type": "stream",
          "name": "stdout",
          "text": [
            "['anglo-french', 'channel', 'tunnel', 'oper', 'eurotunnel', 'monday', 'announc', 'deal', 'give', 'creditor', 'bank', '45.5', 'percent', 'compani', 'return', 'wipe', 'one', 'billion', 'pound', '1.56', 'billion', 'debt', 'mountain', 'the', 'long-await', 'restructur', 'bring', 'end', 'month', 'wrangl']\n"
          ]
        }
      ],
      "source": [
        "# Test remove punctuation\n",
        "content_test_cleaned = removePunctuationFromTokenized(content_test_stemmed)\n",
        "\n",
        "# visually inspect\n",
        "print(content_test_cleaned[:30])"
      ]
    },
    {
      "cell_type": "code",
      "execution_count": 21,
      "metadata": {
        "colab": {
          "base_uri": "https://localhost:8080/"
        },
        "id": "MZMpwXb8hYhk",
        "outputId": "6f8d1858-d2c9-4fa6-faa7-80b765a8fa0e"
      },
      "outputs": [
        {
          "output_type": "stream",
          "name": "stdout",
          "text": [
            "['anglo-french', 'channel', 'tunnel', 'oper', 'eurotunnel', 'monday', 'announc', 'deal', 'give', 'creditor', 'bank', '45.5', 'percent', 'compani', 'return', 'wipe', 'one', 'billion', 'pound', '1.56', 'billion', 'debt', 'mountain', 'the', 'long-await', 'restructur', 'bring', 'end', 'month', 'wrangl']\n"
          ]
        }
      ],
      "source": [
        "# Test convert to lower\n",
        "content_test_clean_lower = convertItemsToLower(content_test_cleaned)\n",
        "print(content_test_clean_lower[:30])"
      ]
    },
    {
      "cell_type": "markdown",
      "metadata": {
        "id": "mahAFoothYhk"
      },
      "source": [
        "### Wrap into a function to be used by NLTK"
      ]
    },
    {
      "cell_type": "code",
      "execution_count": 22,
      "metadata": {
        "collapsed": true,
        "id": "bsjN7uhlhYhk"
      },
      "outputs": [],
      "source": [
        "# process data without writing inspection file information to file\n",
        "def processData(rawContents):\n",
        "    cleaned = tokenizeContent(rawContents)\n",
        "    cleaned = removeStopWordsFromTokenized(cleaned)\n",
        "    cleaned = performPorterStemmingOnContents(cleaned)\n",
        "    cleaned = removePunctuationFromTokenized(cleaned)\n",
        "    cleaned = convertItemsToLower(cleaned)\n",
        "    return cleaned"
      ]
    },
    {
      "cell_type": "markdown",
      "metadata": {
        "id": "X8fMWZ0ohYhk"
      },
      "source": [
        "## Create Functions For Output\n",
        "- TFIDF\n",
        "- Cosine Similarity\n",
        "    - this function will both calcuate and output results"
      ]
    },
    {
      "cell_type": "code",
      "execution_count": 56,
      "metadata": {
        "collapsed": true,
        "id": "8FEltbj4hYhk"
      },
      "outputs": [],
      "source": [
        "# print TFIDF values in 'table' format\n",
        "def print_TFIDF_for_all(term, values, fileNames):\n",
        "    print(\"{:<15}\".format(values[i][j]), end=\"\")\n",
        "\n",
        "    for fileName in fileNames:\n",
        "        print(\"{:<15}\".format(fileName), end=\"\")\n",
        "    print()\n",
        "    for i in range(len(term)):\n",
        "        print(\"{:<15}\".format(term[i]), end=\"\")\n",
        "        for j in range(len(fileNames)):\n",
        "            print(\"{:<15}\".format(values[i][j]), end=\"\")\n",
        "        print()\n"
      ]
    },
    {
      "cell_type": "code",
      "execution_count": 24,
      "metadata": {
        "collapsed": true,
        "id": "iOHWaZKdhYhl"
      },
      "outputs": [],
      "source": [
        "# write TFIDF values in 'table' format\n",
        "def write_TFIDF_for_all(term, values, fileNames):\n",
        "    filePath = \"/content/inputData\"  # specify your file path here\n",
        "    with open(filePath, 'w') as file:\n",
        "        file.write(\"{:<15}\".format(\"\"))\n",
        "        for fileName in fileNames:\n",
        "            file.write(\"{:<15}\".format(fileName))\n",
        "        file.write(\"\\n\")\n",
        "        for i in range(len(term)):\n",
        "            file.write(\"{:<15}\".format(term[i]))\n",
        "            for j in range(len(fileNames)):\n",
        "                file.write(\"{:<15}\".format(values[i][j]))\n",
        "            file.write(\"\\n\")\n"
      ]
    },
    {
      "cell_type": "code",
      "execution_count": 52,
      "metadata": {
        "collapsed": true,
        "id": "uBRY9-WphYhl"
      },
      "outputs": [],
      "source": [
        "# TODO: modify this to build matrix then print from matrix form\n",
        "from sklearn.metrics.pairwise import cosine_similarity\n",
        "\n",
        "def calc_and_print_CosineSimilarity_for_all(tfs, fileNames):\n",
        "    print(\"\\n\\n\\n========COSINE SIMILARITY====================================================================\\n\")\n",
        "    print(\"{:<15}\".format(\"\"), end=\"\")\n",
        "    for fileName in fileNames:\n",
        "        print(\"{:<15}\".format(fileName), end=\"\")\n",
        "    print()\n",
        "    for i in range(len(fileNames)):\n",
        "        print(\"{:<15}\".format(fileNames[i]), end=\"\")\n",
        "        for n in range(len(fileNames)):\n",
        "            numValue = (cosine_similarity([tfs[i]], [tfs[n]])[0][0])\n",
        "            print(\"{:<15}\".format(numValue), end=\"\")\n",
        "        print()\n",
        "    print(\"\\n\\n=============================================================================================\\n\")\n",
        "#calc_and_print_CosineSimilarity_for_all(tfs, fileNames)"
      ]
    },
    {
      "cell_type": "code",
      "execution_count": 31,
      "metadata": {
        "collapsed": true,
        "id": "6_-7YOJjhYhl"
      },
      "outputs": [],
      "source": [
        "from sklearn.metrics.pairwise import cosine_similarity\n",
        "\n",
        "def calc_and_write_CosineSimilarity_for_all(tfs, fileNames):\n",
        "    filePath = \"cosine_similarity.txt\"  # specify your file path here\n",
        "    with open(filePath, 'w') as file:\n",
        "        file.write(\"{:<15}\".format(\"\"))\n",
        "        for fileName in fileNames:\n",
        "            file.write(\"{:<15}\".format(fileName))\n",
        "        file.write(\"\\n\")\n",
        "        for i in range(len(fileNames)):\n",
        "            file.write(\"{:<15}\".format(fileNames[i]))\n",
        "            for n in range(len(fileNames)):\n",
        "                numValue = (cosine_similarity([tfs[i]], [tfs[n]])[0][0])\n",
        "                file.write(\"{:<15}\".format(numValue))\n",
        "            file.write(\"\\n\")\n"
      ]
    },
    {
      "cell_type": "markdown",
      "metadata": {
        "id": "OXinQUqGhYhl"
      },
      "source": [
        "## Wrap Everything into `Main()`"
      ]
    },
    {
      "cell_type": "code",
      "source": [
        "pip install -U scikit-learn\n"
      ],
      "metadata": {
        "colab": {
          "base_uri": "https://localhost:8080/",
          "height": 356
        },
        "id": "hj7VWqhgxsQo",
        "outputId": "4b65e1e1-ca67-4c21-c862-5b411003f161"
      },
      "execution_count": 39,
      "outputs": [
        {
          "output_type": "stream",
          "name": "stdout",
          "text": [
            "Requirement already satisfied: scikit-learn in /usr/local/lib/python3.10/dist-packages (1.2.2)\n",
            "Collecting scikit-learn\n",
            "  Downloading scikit_learn-1.3.1-cp310-cp310-manylinux_2_17_x86_64.manylinux2014_x86_64.whl (10.8 MB)\n",
            "\u001b[2K     \u001b[90m━━━━━━━━━━━━━━━━━━━━━━━━━━━━━━━━━━━━━━━━\u001b[0m \u001b[32m10.8/10.8 MB\u001b[0m \u001b[31m66.4 MB/s\u001b[0m eta \u001b[36m0:00:00\u001b[0m\n",
            "\u001b[?25hRequirement already satisfied: numpy<2.0,>=1.17.3 in /usr/local/lib/python3.10/dist-packages (from scikit-learn) (1.23.5)\n",
            "Requirement already satisfied: scipy>=1.5.0 in /usr/local/lib/python3.10/dist-packages (from scikit-learn) (1.11.3)\n",
            "Requirement already satisfied: joblib>=1.1.1 in /usr/local/lib/python3.10/dist-packages (from scikit-learn) (1.3.2)\n",
            "Requirement already satisfied: threadpoolctl>=2.0.0 in /usr/local/lib/python3.10/dist-packages (from scikit-learn) (3.2.0)\n",
            "Installing collected packages: scikit-learn\n",
            "  Attempting uninstall: scikit-learn\n",
            "    Found existing installation: scikit-learn 1.2.2\n",
            "    Uninstalling scikit-learn-1.2.2:\n",
            "      Successfully uninstalled scikit-learn-1.2.2\n",
            "Successfully installed scikit-learn-1.3.1\n"
          ]
        },
        {
          "output_type": "display_data",
          "data": {
            "application/vnd.colab-display-data+json": {
              "pip_warning": {
                "packages": [
                  "sklearn"
                ]
              }
            }
          },
          "metadata": {}
        }
      ]
    },
    {
      "cell_type": "code",
      "execution_count": 54,
      "metadata": {
        "collapsed": true,
        "id": "XJUjmis8hYhl"
      },
      "outputs": [],
      "source": [
        "def main(printResults=True):\n",
        "    baseFolderPath = \"/content/inputData\"\n",
        "\n",
        "    fileNames, filePathList = returnListOfFilePaths(baseFolderPath)\n",
        "\n",
        "    rawContentDict = create_docContentDict(filePathList)\n",
        "\n",
        "    # calculate tfidf\n",
        "    tfidf = TfidfVectorizer(tokenizer=processData, stop_words='english')\n",
        "    tfs = tfidf.fit_transform(rawContentDict.values())\n",
        "    tfs_Values = tfs.toarray()\n",
        "    tfs_Term = tfidf.get_feature_names_out()\n",
        "\n",
        "    if printResults:\n",
        "        # print results\n",
        "        print_TFIDF_for_all(tfs_Term, tfs_Values, fileNames)\n",
        "        calc_and_print_CosineSimilarity_for_all(tfs, fileNames)\n",
        "    else:\n",
        "        # write results to file\n",
        "        write_TFIDF_for_all(tfs_Term, tfs_Values, fileNames)\n",
        "        calc_and_write_CosineSimilarity_for_all(tfs, fileNames)\n",
        "#calc_and_print_CosineSimilarity_for_all(tfs, fileNames)"
      ]
    },
    {
      "cell_type": "code",
      "execution_count": 36,
      "metadata": {
        "colab": {
          "base_uri": "https://localhost:8080/"
        },
        "id": "jgJDHKcYhYhl",
        "outputId": "d2d43ee1-d728-469a-a093-0b404f383bd5"
      },
      "outputs": [
        {
          "output_type": "execute_result",
          "data": {
            "text/plain": [
              "<function __main__.main(printResults=True)>"
            ]
          },
          "metadata": {},
          "execution_count": 36
        }
      ],
      "source": [
        "main\n"
      ]
    },
    {
      "cell_type": "code",
      "execution_count": 55,
      "metadata": {
        "collapsed": true,
        "id": "H8b4QilOhYhm",
        "colab": {
          "base_uri": "https://localhost:8080/",
          "height": 320
        },
        "outputId": "66adcab3-4d29-4201-f798-d65498a77947"
      },
      "outputs": [
        {
          "output_type": "error",
          "ename": "UnboundLocalError",
          "evalue": "ignored",
          "traceback": [
            "\u001b[0;31m---------------------------------------------------------------------------\u001b[0m",
            "\u001b[0;31mUnboundLocalError\u001b[0m                         Traceback (most recent call last)",
            "\u001b[0;32m<ipython-input-55-263240bbee7e>\u001b[0m in \u001b[0;36m<cell line: 1>\u001b[0;34m()\u001b[0m\n\u001b[0;32m----> 1\u001b[0;31m \u001b[0mmain\u001b[0m\u001b[0;34m(\u001b[0m\u001b[0;34m)\u001b[0m\u001b[0;34m\u001b[0m\u001b[0;34m\u001b[0m\u001b[0m\n\u001b[0m",
            "\u001b[0;32m<ipython-input-54-56f93d0d85ec>\u001b[0m in \u001b[0;36mmain\u001b[0;34m(printResults)\u001b[0m\n\u001b[1;32m     14\u001b[0m     \u001b[0;32mif\u001b[0m \u001b[0mprintResults\u001b[0m\u001b[0;34m:\u001b[0m\u001b[0;34m\u001b[0m\u001b[0;34m\u001b[0m\u001b[0m\n\u001b[1;32m     15\u001b[0m         \u001b[0;31m# print results\u001b[0m\u001b[0;34m\u001b[0m\u001b[0;34m\u001b[0m\u001b[0m\n\u001b[0;32m---> 16\u001b[0;31m         \u001b[0mprint_TFIDF_for_all\u001b[0m\u001b[0;34m(\u001b[0m\u001b[0mtfs_Term\u001b[0m\u001b[0;34m,\u001b[0m \u001b[0mtfs_Values\u001b[0m\u001b[0;34m,\u001b[0m \u001b[0mfileNames\u001b[0m\u001b[0;34m)\u001b[0m\u001b[0;34m\u001b[0m\u001b[0;34m\u001b[0m\u001b[0m\n\u001b[0m\u001b[1;32m     17\u001b[0m         \u001b[0mcalc_and_print_CosineSimilarity_for_all\u001b[0m\u001b[0;34m(\u001b[0m\u001b[0mtfs\u001b[0m\u001b[0;34m,\u001b[0m \u001b[0mfileNames\u001b[0m\u001b[0;34m)\u001b[0m\u001b[0;34m\u001b[0m\u001b[0;34m\u001b[0m\u001b[0m\n\u001b[1;32m     18\u001b[0m     \u001b[0;32melse\u001b[0m\u001b[0;34m:\u001b[0m\u001b[0;34m\u001b[0m\u001b[0;34m\u001b[0m\u001b[0m\n",
            "\u001b[0;32m<ipython-input-44-5e29d2ba141b>\u001b[0m in \u001b[0;36mprint_TFIDF_for_all\u001b[0;34m(term, values, fileNames)\u001b[0m\n\u001b[1;32m      1\u001b[0m \u001b[0;31m# print TFIDF values in 'table' format\u001b[0m\u001b[0;34m\u001b[0m\u001b[0;34m\u001b[0m\u001b[0m\n\u001b[1;32m      2\u001b[0m \u001b[0;32mdef\u001b[0m \u001b[0mprint_TFIDF_for_all\u001b[0m\u001b[0;34m(\u001b[0m\u001b[0mterm\u001b[0m\u001b[0;34m,\u001b[0m \u001b[0mvalues\u001b[0m\u001b[0;34m,\u001b[0m \u001b[0mfileNames\u001b[0m\u001b[0;34m)\u001b[0m\u001b[0;34m:\u001b[0m\u001b[0;34m\u001b[0m\u001b[0;34m\u001b[0m\u001b[0m\n\u001b[0;32m----> 3\u001b[0;31m     \u001b[0mprint\u001b[0m\u001b[0;34m(\u001b[0m\u001b[0;34m\"{:<15}\"\u001b[0m\u001b[0;34m.\u001b[0m\u001b[0mformat\u001b[0m\u001b[0;34m(\u001b[0m\u001b[0mvalues\u001b[0m\u001b[0;34m[\u001b[0m\u001b[0mi\u001b[0m\u001b[0;34m]\u001b[0m\u001b[0;34m[\u001b[0m\u001b[0mj\u001b[0m\u001b[0;34m]\u001b[0m\u001b[0;34m)\u001b[0m\u001b[0;34m,\u001b[0m \u001b[0mend\u001b[0m\u001b[0;34m=\u001b[0m\u001b[0;34m\"\"\u001b[0m\u001b[0;34m)\u001b[0m\u001b[0;34m\u001b[0m\u001b[0;34m\u001b[0m\u001b[0m\n\u001b[0m\u001b[1;32m      4\u001b[0m \u001b[0;34m\u001b[0m\u001b[0m\n\u001b[1;32m      5\u001b[0m     \u001b[0;32mfor\u001b[0m \u001b[0mfileName\u001b[0m \u001b[0;32min\u001b[0m \u001b[0mfileNames\u001b[0m\u001b[0;34m:\u001b[0m\u001b[0;34m\u001b[0m\u001b[0;34m\u001b[0m\u001b[0m\n",
            "\u001b[0;31mUnboundLocalError\u001b[0m: local variable 'i' referenced before assignment"
          ]
        }
      ],
      "source": [
        "main()"
      ]
    },
    {
      "cell_type": "code",
      "source": [],
      "metadata": {
        "id": "Rc3xWv-7wwiK"
      },
      "execution_count": null,
      "outputs": []
    }
  ],
  "metadata": {
    "kernelspec": {
      "display_name": "Python 3",
      "language": "python",
      "name": "python3"
    },
    "language_info": {
      "codemirror_mode": {
        "name": "ipython",
        "version": 3
      },
      "file_extension": ".py",
      "mimetype": "text/x-python",
      "name": "python",
      "nbconvert_exporter": "python",
      "pygments_lexer": "ipython3",
      "version": "3.6.1"
    },
    "colab": {
      "provenance": []
    }
  },
  "nbformat": 4,
  "nbformat_minor": 0
}