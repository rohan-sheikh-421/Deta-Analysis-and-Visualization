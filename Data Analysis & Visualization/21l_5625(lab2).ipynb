{
  "cells": [
    {
      "cell_type": "code",
      "execution_count": 8,
      "metadata": {
        "colab": {
          "base_uri": "https://localhost:8080/"
        },
        "id": "3RvwYQmyNofy",
        "outputId": "5e38cb4c-57ec-4eb1-b572-12214ad7aa95"
      },
      "outputs": [
        {
          "name": "stdout",
          "output_type": "stream",
          "text": [
            "Requirement already satisfied: selenium in c:\\users\\lenovo\\anaconda3\\lib\\site-packages (4.12.0)\n",
            "Requirement already satisfied: trio-websocket~=0.9 in c:\\users\\lenovo\\anaconda3\\lib\\site-packages (from selenium) (0.10.4)\n",
            "Requirement already satisfied: certifi>=2021.10.8 in c:\\users\\lenovo\\anaconda3\\lib\\site-packages (from selenium) (2022.12.7)\n",
            "Requirement already satisfied: trio~=0.17 in c:\\users\\lenovo\\anaconda3\\lib\\site-packages (from selenium) (0.22.2)\n",
            "Requirement already satisfied: urllib3[socks]<3,>=1.26 in c:\\users\\lenovo\\anaconda3\\lib\\site-packages (from selenium) (1.26.6)\n",
            "Requirement already satisfied: exceptiongroup>=1.0.0rc9 in c:\\users\\lenovo\\anaconda3\\lib\\site-packages (from trio~=0.17->selenium) (1.1.3)\n",
            "Requirement already satisfied: attrs>=20.1.0 in c:\\users\\lenovo\\anaconda3\\lib\\site-packages (from trio~=0.17->selenium) (22.1.0)\n",
            "Requirement already satisfied: outcome in c:\\users\\lenovo\\anaconda3\\lib\\site-packages (from trio~=0.17->selenium) (1.2.0)\n",
            "Requirement already satisfied: cffi>=1.14 in c:\\users\\lenovo\\anaconda3\\lib\\site-packages (from trio~=0.17->selenium) (1.15.1)\n",
            "Requirement already satisfied: sortedcontainers in c:\\users\\lenovo\\anaconda3\\lib\\site-packages (from trio~=0.17->selenium) (2.4.0)\n",
            "Requirement already satisfied: sniffio in c:\\users\\lenovo\\anaconda3\\lib\\site-packages (from trio~=0.17->selenium) (1.2.0)\n",
            "Requirement already satisfied: idna in c:\\users\\lenovo\\anaconda3\\lib\\site-packages (from trio~=0.17->selenium) (3.4)\n",
            "Requirement already satisfied: wsproto>=0.14 in c:\\users\\lenovo\\anaconda3\\lib\\site-packages (from trio-websocket~=0.9->selenium) (1.2.0)\n",
            "Requirement already satisfied: PySocks!=1.5.7,<2.0,>=1.5.6 in c:\\users\\lenovo\\anaconda3\\lib\\site-packages (from urllib3[socks]<3,>=1.26->selenium) (1.7.1)\n",
            "Requirement already satisfied: pycparser in c:\\users\\lenovo\\anaconda3\\lib\\site-packages (from cffi>=1.14->trio~=0.17->selenium) (2.21)\n",
            "Requirement already satisfied: h11<1,>=0.9.0 in c:\\users\\lenovo\\anaconda3\\lib\\site-packages (from wsproto>=0.14->trio-websocket~=0.9->selenium) (0.14.0)\n"
          ]
        }
      ],
      "source": [
        "!pip install selenium\n",
        "from selenium import webdriver\n",
        "from selenium.webdriver.chrome.service import Service\n",
        "from selenium.webdriver.common.by import By\n",
        "import time\n",
        "import pandas as pd"
      ]
    },
    {
      "cell_type": "code",
      "execution_count": 9,
      "metadata": {
        "id": "r76PKEeaNof2"
      },
      "outputs": [],
      "source": [
        "s = Service('C:\\\\Users\\\\Lenovo\\\\OneDrive\\\\Documents\\\\chromedriver.exe')"
      ]
    },
    {
      "cell_type": "code",
      "execution_count": 10,
      "metadata": {
        "colab": {
          "base_uri": "https://localhost:8080/",
          "height": 338
        },
        "id": "Yy4VrvLLNof2",
        "outputId": "e7733c33-b389-4afe-8278-f0d066dfd534"
      },
      "outputs": [],
      "source": [
        "driver = webdriver.Chrome(service = s)"
      ]
    },
    {
      "cell_type": "code",
      "execution_count": 12,
      "metadata": {
        "colab": {
          "base_uri": "https://localhost:8080/",
          "height": 245
        },
        "id": "1lXx_yFLNof3",
        "outputId": "cbbc27c9-6a8a-4573-fb36-afd05410a4d6"
      },
      "outputs": [],
      "source": [
        "\n",
        "\n",
        "URL_PATH = 'https://www.youtube.com/@unknownmemes2k/videos'\n",
        "driver.get(URL_PATH)\n",
        "\n",
        "time.sleep(3)\n",
        "driver.execute_script(\"window.scrollTo(0, document.documentElement.scrollHeight);\")\n",
        "time.sleep(3)\n",
        "\n",
        "titles = []\n",
        "dates = []\n",
        "video_lengths = []\n",
        "views = []\n",
        "\n",
        "videos = driver.find_elements(By.CLASS_NAME, \"style-scope ytd-rich-grid-media\")\n",
        "for video in videos:\n",
        "    try:\n",
        "        date = video.find_element(By.XPATH, './/*[@id=\"metadata-line\"]/span[2]').text.strip()\n",
        "    except Exception as e:\n",
        "        date = \"\"\n",
        "\n",
        "    try:\n",
        "        length = video.find_element(By.XPATH, './/*[@id=\"time-status\"]').text\n",
        "    except Exception as e:\n",
        "        length = \"\"\n",
        "\n",
        "    try:\n",
        "        view = video.find_element(By.XPATH, './/*[@id=\"metadata-line\"]/span[1]').text.strip()\n",
        "    except Exception as e:\n",
        "        view = \"\"\n",
        "\n",
        "    try:\n",
        "        title = video.find_element(By.XPATH, './/*[@id=\"video-title\"]').text.strip()\n",
        "    except Exception as e:\n",
        "        title = \"\"\n",
        "\n",
        "    dates.append(date)\n",
        "    video_lengths.append(length)\n",
        "    views.append(view)\n",
        "    titles.append(title)\n",
        "\n",
        "data = {\n",
        "    'Date': dates,\n",
        "    'Video Length': video_lengths,\n",
        "    'Views': views,\n",
        "    'Title': titles,\n",
        "}\n",
        "\n",
        "df = pd.DataFrame(data)\n",
        "df.to_excel('data2.xlsx', index=False)\n",
        "driver.close()\n"
      ]
    },
    {
      "cell_type": "code",
      "execution_count": 13,
      "metadata": {
        "id": "6gdmX43-Nof4"
      },
      "outputs": [
        {
          "name": "stdout",
          "output_type": "stream",
          "text": [
            "c:\\Users\\Lenovo\\Downloads\n"
          ]
        }
      ],
      "source": [
        "\n",
        " \n",
        "import os\n",
        "print(os.getcwd())"
      ]
    },
    {
      "cell_type": "code",
      "execution_count": null,
      "metadata": {},
      "outputs": [],
      "source": [
        "print(data.xlsx)"
      ]
    }
  ],
  "metadata": {
    "colab": {
      "provenance": []
    },
    "kernelspec": {
      "display_name": "Python 3",
      "language": "python",
      "name": "python3"
    },
    "language_info": {
      "codemirror_mode": {
        "name": "ipython",
        "version": 3
      },
      "file_extension": ".py",
      "mimetype": "text/x-python",
      "name": "python",
      "nbconvert_exporter": "python",
      "pygments_lexer": "ipython3",
      "version": "3.10.9"
    },
    "orig_nbformat": 4
  },
  "nbformat": 4,
  "nbformat_minor": 0
}
