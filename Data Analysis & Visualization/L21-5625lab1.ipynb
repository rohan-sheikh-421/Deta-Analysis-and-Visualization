{
 "cells": [
  {
   "cell_type": "markdown",
   "id": "3122559e",
   "metadata": {},
   "source": [
    "# Ex#1"
   ]
  },
  {
   "cell_type": "code",
   "execution_count": 43,
   "id": "18890a3f",
   "metadata": {},
   "outputs": [
    {
     "name": "stderr",
     "output_type": "stream",
     "text": [
      "Matplotlib is building the font cache; this may take a moment.\n"
     ]
    }
   ],
   "source": [
    "import pandas as pd\n",
    "import numpy as np\n",
    "import math\n",
    "import matplotlib as plt\n",
    "from matplotlib import pyplot as plt"
   ]
  },
  {
   "cell_type": "code",
   "execution_count": 3,
   "id": "3226f386",
   "metadata": {},
   "outputs": [],
   "source": [
    "array =np.array([\n",
    "    [2,3,4,5,2],\n",
    "    [4,3,4,3,2],\n",
    "    [4,6,7,5,4],\n",
    "])"
   ]
  },
  {
   "cell_type": "code",
   "execution_count": 4,
   "id": "a7b882fc",
   "metadata": {},
   "outputs": [
    {
     "data": {
      "text/plain": [
       "array([[2, 3, 4, 5, 2],\n",
       "       [4, 3, 4, 3, 2],\n",
       "       [4, 6, 7, 5, 4]])"
      ]
     },
     "execution_count": 4,
     "metadata": {},
     "output_type": "execute_result"
    }
   ],
   "source": [
    "array"
   ]
  },
  {
   "cell_type": "code",
   "execution_count": 6,
   "id": "68e38486",
   "metadata": {},
   "outputs": [
    {
     "name": "stdout",
     "output_type": "stream",
     "text": [
      "(3, 5)\n"
     ]
    }
   ],
   "source": [
    "print(array.shape)"
   ]
  },
  {
   "cell_type": "code",
   "execution_count": 12,
   "id": "e9d16c77",
   "metadata": {},
   "outputs": [
    {
     "name": "stdout",
     "output_type": "stream",
     "text": [
      "[[7 5 4]]\n",
      "\n",
      "[[4 5 2]\n",
      " [4 3 2]\n",
      " [7 5 4]]\n"
     ]
    }
   ],
   "source": [
    "slice1= array[-1:,2:]\n",
    "slice2= array[0:3,2:5]\n",
    "\n",
    "print(slice1)\n",
    "print()\n",
    "print(slice2)"
   ]
  },
  {
   "cell_type": "code",
   "execution_count": 14,
   "id": "8b6f3b24",
   "metadata": {},
   "outputs": [
    {
     "name": "stdout",
     "output_type": "stream",
     "text": [
      "[[ 4  9 16 25  4]\n",
      " [16  9 16  9  4]\n",
      " [16 36 49 25 16]]\n"
     ]
    }
   ],
   "source": [
    "arr=np.square(array)\n",
    "print(arr)"
   ]
  },
  {
   "cell_type": "markdown",
   "id": "3d62046a",
   "metadata": {},
   "source": [
    "# EX#2"
   ]
  },
  {
   "cell_type": "code",
   "execution_count": 20,
   "id": "47144d1e",
   "metadata": {},
   "outputs": [],
   "source": [
    "def logistic(z: np.ndarray, a: float, b: float):\n",
    "    fun=[]\n",
    "    for i in z:\n",
    "        f=1/(1+b*(math.e**(-a*i)))\n",
    "        fun.append(f)\n",
    "    \n",
    "    return fun"
   ]
  },
  {
   "cell_type": "code",
   "execution_count": 26,
   "id": "2c3b39cf",
   "metadata": {},
   "outputs": [],
   "source": [
    "a=0.2\n",
    "arr=np.array([-5,-4,-3,-2,-1,0,1,2,3,4,5])\n",
    "b=0.5"
   ]
  },
  {
   "cell_type": "code",
   "execution_count": 46,
   "id": "d6b49d30",
   "metadata": {},
   "outputs": [
    {
     "name": "stdout",
     "output_type": "stream",
     "text": [
      "[0.006692850924284857, 0.017986209962091562, 0.04742587317756679, 0.11920292202211757, 0.2689414213699951, 0.5, 0.7310585786300049, 0.8807970779778823, 0.9525741268224331, 0.9820137900379085, 0.9933071490757153]\n"
     ]
    }
   ],
   "source": [
    "ar=logistic(arr,1,1)\n",
    "print(ar)"
   ]
  },
  {
   "cell_type": "code",
   "execution_count": null,
   "id": "1b563cb8",
   "metadata": {},
   "outputs": [],
   "source": []
  },
  {
   "cell_type": "code",
   "execution_count": 36,
   "id": "46152e20",
   "metadata": {},
   "outputs": [],
   "source": [
    "def hyperbolic(z:np.ndarray,a : float ,b: float,c):\n",
    "        fun2=[]\n",
    "        for i in z:\n",
    "            f=b*math.tanh(a*i)+c\n",
    "            fun2.append(f)\n",
    "        return fun2    \n",
    "\n",
    "    \n"
   ]
  },
  {
   "cell_type": "code",
   "execution_count": 49,
   "id": "f75e4d7d",
   "metadata": {},
   "outputs": [
    {
     "name": "stdout",
     "output_type": "stream",
     "text": [
      "[-1.4998184085251902, -1.498658599478134, -1.490109507373461, -1.4280551601516338, -1.0231883119115297, 0.5, 2.0231883119115297, 2.428055160151634, 2.490109507373461, 2.498658599478134, 2.49981840852519]\n"
     ]
    }
   ],
   "source": [
    "ar2=hyperbolic(arr,1,2,0.5)\n",
    "print(ar2)"
   ]
  },
  {
   "cell_type": "code",
   "execution_count": 41,
   "id": "8cac6486",
   "metadata": {},
   "outputs": [],
   "source": [
    "def rectified(z:np.ndarray,e:float):\n",
    "    return np.maximum(z,z*e)"
   ]
  },
  {
   "cell_type": "code",
   "execution_count": 51,
   "id": "8f9b9592",
   "metadata": {},
   "outputs": [
    {
     "name": "stdout",
     "output_type": "stream",
     "text": [
      "[-0.05 -0.04 -0.03 -0.02 -0.01  0.    1.    2.    3.    4.    5.  ]\n"
     ]
    }
   ],
   "source": [
    "ar3=rectified(arr,0.01)\n",
    "print(ar3)"
   ]
  },
  {
   "cell_type": "code",
   "execution_count": null,
   "id": "b0c689c8",
   "metadata": {},
   "outputs": [],
   "source": []
  },
  {
   "cell_type": "code",
   "execution_count": 50,
   "id": "999cf278",
   "metadata": {},
   "outputs": [
    {
     "data": {
      "image/png": "[encoded data removed]",
      "text/plain": [
       "<Figure size 432x288 with 1 Axes>"
      ]
     },
     "metadata": {
      "needs_background": "light"
     },
     "output_type": "display_data"
    }
   ],
   "source": [
    "\n",
    "fig, ax = plt.subplots()\n",
    "\n",
    "ax.plot(arr, ar, linestyle='--', linewidth=2, label='Logistic Function')\n",
    "ax.plot(arr, ar2, linestyle='-.', linewidth=2, label='Hyperbolic Tangent')\n",
    "ax.plot(arr, ar3, linestyle=':', linewidth=2, label='Rectified Linear Unit')\n",
    "\n",
    "ax.set_xlabel('X Axis')\n",
    "ax.set_ylabel('Y Axis')\n",
    "ax.set_title('Excercise 2')\n",
    "\n",
    "ax.legend(loc='upper left')\n",
    "\n",
    "plt.show()"
   ]
  },
  {
   "cell_type": "code",
   "execution_count": null,
   "id": "460e0c3b",
   "metadata": {},
   "outputs": [],
   "source": []
  }
 ],
 "metadata": {
  "kernelspec": {
   "display_name": "Python 3",
   "language": "python",
   "name": "python3"
  },
  "language_info": {
   "codemirror_mode": {
    "name": "ipython",
    "version": 3
   },
   "file_extension": ".py",
   "mimetype": "text/x-python",
   "name": "python",
   "nbconvert_exporter": "python",
   "pygments_lexer": "ipython3",
   "version": "3.8.8"
  }
 },
 "nbformat": 4,
 "nbformat_minor": 5
}
