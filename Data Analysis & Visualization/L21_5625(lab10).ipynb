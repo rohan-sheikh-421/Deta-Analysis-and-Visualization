{
  "nbformat": 4,
  "nbformat_minor": 0,
  "metadata": {
    "colab": {
      "provenance": []
    },
    "kernelspec": {
      "name": "python3",
      "display_name": "Python 3"
    },
    "language_info": {
      "name": "python"
    }
  },
  "cells": [
    {
      "cell_type": "code",
      "source": [
        "%load_ext rpy2.ipython"
      ],
      "metadata": {
        "id": "_i3L9SJqHpws"
      },
      "execution_count": 2,
      "outputs": []
    },
    {
      "cell_type": "code",
      "execution_count": 3,
      "metadata": {
        "colab": {
          "base_uri": "https://localhost:8080/"
        },
        "id": "-acn-xbqHjSH",
        "outputId": "725394f4-abf2-43e3-b2ee-13a3632cae2b"
      },
      "outputs": [
        {
          "output_type": "stream",
          "name": "stdout",
          "text": [
            "[1] 8\n"
          ]
        }
      ],
      "source": [
        "%%R\n",
        "myPower <- function(b, e) {\n",
        "  result <- 1\n",
        "  for(i in 1:e) {\n",
        "    result <- result * b\n",
        "  }\n",
        "  return(result)\n",
        "}\n",
        "\n",
        "# Test the function\n",
        "print(myPower(2, 3))\n"
      ]
    },
    {
      "cell_type": "code",
      "source": [
        "%%R\n",
        "subtotal <- function(values) {\n",
        "  n <- length(values)\n",
        "  for(i in 2:n) {\n",
        "    values[i] <- values[i] + values[i-1]\n",
        "  }\n",
        "  return(mean(values))\n",
        "}\n",
        "\n",
        "# Test the function\n",
        "values <- c(5.8, 2.6, 9.1, 3.4, 7.0)\n",
        "print(subtotal(values))\n"
      ],
      "metadata": {
        "colab": {
          "base_uri": "https://localhost:8080/"
        },
        "id": "xncfktcuIMHK",
        "outputId": "ff6dbb1a-07e9-42bf-be25-37cb82cc48d4"
      },
      "execution_count": 4,
      "outputs": [
        {
          "output_type": "stream",
          "name": "stdout",
          "text": [
            "[1] 16.1\n"
          ]
        }
      ]
    },
    {
      "cell_type": "code",
      "source": [
        "%%R\n",
        "Counter <- function(text) {\n",
        "  total_chars <- nchar(text)\n",
        "  uppercases <- sum(nchar(gsub(\"[^A-Z]\", \"\", text)))\n",
        "  lowercases <- sum(nchar(gsub(\"[^a-z]\", \"\", text)))\n",
        "  spaces <- sum(nchar(gsub(\"[^ ]\", \"\", text)))\n",
        "\n",
        "  return(list(total_chars = total_chars, uppercases = uppercases, lowercases = lowercases, spaces = spaces))\n",
        "}\n",
        "\n",
        "# Test the function\n",
        "text <- \"Hello, I am a student of FAST University.\"\n",
        "result <- Counter(text)\n",
        "print(paste(\"No. of letters are:\", result$total_chars))\n",
        "print(paste(\"No. of spaces are:\", result$spaces))\n",
        "print(paste(\"No. of uppercase letters are:\", result$uppercases))\n",
        "print(paste(\"No. of lowercase letters are:\", result$lowercases))\n"
      ],
      "metadata": {
        "colab": {
          "base_uri": "https://localhost:8080/"
        },
        "id": "oDUKn2rnJmRT",
        "outputId": "59ef4370-77fb-46cc-dbc3-261aef8572ae"
      },
      "execution_count": 5,
      "outputs": [
        {
          "output_type": "stream",
          "name": "stdout",
          "text": [
            "[1] \"No. of letters are: 41\"\n",
            "[1] \"No. of spaces are: 7\"\n",
            "[1] \"No. of uppercase letters are: 7\"\n",
            "[1] \"No. of lowercase letters are: 25\"\n"
          ]
        }
      ]
    },
    {
      "cell_type": "code",
      "source": [
        "%%R\n",
        "findMedianSortedArrays <- function(nums1, nums2) {\n",
        "  merged <- sort(c(nums1, nums2))\n",
        "  n <- length(merged)\n",
        "\n",
        "  if (n %% 2 == 1) {\n",
        "    return(merged[(n + 1) / 2])\n",
        "  } else {\n",
        "    return((merged[n / 2] + merged[n / 2 + 1]) / 2)\n",
        "  }\n",
        "}\n",
        "\n",
        "# Test the function\n",
        "nums1 <- c(1, 3)\n",
        "nums2 <- c(2)\n",
        "print(findMedianSortedArrays(nums1, nums2))\n",
        "\n",
        "nums1 <- c(1, 2)\n",
        "nums2 <- c(3, 4)\n",
        "print(findMedianSortedArrays(nums1, nums2))\n"
      ],
      "metadata": {
        "colab": {
          "base_uri": "https://localhost:8080/"
        },
        "id": "CCcC0w3fJs37",
        "outputId": "427045bd-7d52-4c6d-b365-0ea831f064d8"
      },
      "execution_count": 7,
      "outputs": [
        {
          "output_type": "stream",
          "name": "stdout",
          "text": [
            "[1] 2\n",
            "[1] 2.5\n"
          ]
        }
      ]
    },
    {
      "cell_type": "code",
      "source": [],
      "metadata": {
        "id": "NwbZcRrfKcS4"
      },
      "execution_count": null,
      "outputs": []
    }
  ]
}